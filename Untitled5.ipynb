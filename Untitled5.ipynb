{
  "nbformat": 4,
  "nbformat_minor": 0,
  "metadata": {
    "colab": {
      "name": "Untitled5.ipynb",
      "version": "0.3.2",
      "provenance": []
    },
    "kernelspec": {
      "name": "python3",
      "display_name": "Python 3"
    }
  },
  "cells": [
    {
      "cell_type": "markdown",
      "metadata": {
        "id": "n8CQC5UMhkMq",
        "colab_type": "text"
      },
      "source": [
        "***Python for Data Science - Session 2***\n",
        "\n",
        "**1. Variables and math in python**\n",
        "\n",
        "**1.1 Math operators**\n"
      ]
    },
    {
      "cell_type": "code",
      "metadata": {
        "id": "irFI4aVChjBz",
        "colab_type": "code",
        "colab": {
          "base_uri": "https://localhost:8080/",
          "height": 34
        },
        "outputId": "dc2671f8-b533-4312-a6e5-4f8227d7da33"
      },
      "source": [
        "# add two integers\n",
        "2+2"
      ],
      "execution_count": 1,
      "outputs": [
        {
          "output_type": "execute_result",
          "data": {
            "text/plain": [
              "4"
            ]
          },
          "metadata": {
            "tags": []
          },
          "execution_count": 1
        }
      ]
    },
    {
      "cell_type": "code",
      "metadata": {
        "id": "XmTVzBqoiK0D",
        "colab_type": "code",
        "colab": {
          "base_uri": "https://localhost:8080/",
          "height": 34
        },
        "outputId": "7141ebf7-fcc9-4f2a-f72b-86ea66622341"
      },
      "source": [
        "# multiply two integers\n",
        "2 * 2"
      ],
      "execution_count": 2,
      "outputs": [
        {
          "output_type": "execute_result",
          "data": {
            "text/plain": [
              "4"
            ]
          },
          "metadata": {
            "tags": []
          },
          "execution_count": 2
        }
      ]
    },
    {
      "cell_type": "code",
      "metadata": {
        "id": "utgOPtL8iOs7",
        "colab_type": "code",
        "colab": {
          "base_uri": "https://localhost:8080/",
          "height": 34
        },
        "outputId": "69e220f2-03ba-4569-fcd2-fac7e2c897ca"
      },
      "source": [
        "# spaces don't enger matter here, but keep them consistent\n",
        "2*3 + 10"
      ],
      "execution_count": 3,
      "outputs": [
        {
          "output_type": "execute_result",
          "data": {
            "text/plain": [
              "16"
            ]
          },
          "metadata": {
            "tags": []
          },
          "execution_count": 3
        }
      ]
    },
    {
      "cell_type": "code",
      "metadata": {
        "id": "KsPiTnBGifad",
        "colab_type": "code",
        "colab": {
          "base_uri": "https://localhost:8080/",
          "height": 34
        },
        "outputId": "de96634b-2b05-4ff5-c73f-024f53400258"
      },
      "source": [
        "# divide two integers\n",
        "6/3\n"
      ],
      "execution_count": 4,
      "outputs": [
        {
          "output_type": "execute_result",
          "data": {
            "text/plain": [
              "2.0"
            ]
          },
          "metadata": {
            "tags": []
          },
          "execution_count": 4
        }
      ]
    },
    {
      "cell_type": "code",
      "metadata": {
        "id": "5W3lGtP0i6dk",
        "colab_type": "code",
        "colab": {
          "base_uri": "https://localhost:8080/",
          "height": 34
        },
        "outputId": "7b256aa6-e5bd-4c27-9736-0ee8acf00a5a"
      },
      "source": [
        "# raise 2 to the 4th power\n",
        "2 **4"
      ],
      "execution_count": 5,
      "outputs": [
        {
          "output_type": "execute_result",
          "data": {
            "text/plain": [
              "16"
            ]
          },
          "metadata": {
            "tags": []
          },
          "execution_count": 5
        }
      ]
    },
    {
      "cell_type": "code",
      "metadata": {
        "id": "TgCBCXOejBGz",
        "colab_type": "code",
        "colab": {
          "base_uri": "https://localhost:8080/",
          "height": 34
        },
        "outputId": "45c86d82-ebb8-4669-abb8-38aec52d7d8c"
      },
      "source": [
        "# the mod function returns the remainder after division. Useful to check divisibility\n",
        "10 % 3 "
      ],
      "execution_count": 6,
      "outputs": [
        {
          "output_type": "execute_result",
          "data": {
            "text/plain": [
              "1"
            ]
          },
          "metadata": {
            "tags": []
          },
          "execution_count": 6
        }
      ]
    },
    {
      "cell_type": "markdown",
      "metadata": {
        "id": "cceywpNbjKzV",
        "colab_type": "text"
      },
      "source": [
        "| Symbol | Task Peformed   |\n",
        "| ------ | --------------- |\n",
        "| +      | Addition        |\n",
        "| _      | Subtraction     |\n",
        "| /      | Division        |\n",
        "| *      | Multiplication  |\n",
        "| **     | to the power of |\n",
        "| %     | mod             |"
      ]
    },
    {
      "cell_type": "markdown",
      "metadata": {
        "id": "rQJ4-Q1akPQL",
        "colab_type": "text"
      },
      "source": [
        "**working with Variables**"
      ]
    },
    {
      "cell_type": "code",
      "metadata": {
        "id": "JhG5OFddifQL",
        "colab_type": "code",
        "colab": {}
      },
      "source": [
        "# variables, such as x here, contain values and their values can vary\n",
        "x = 5"
      ],
      "execution_count": 0,
      "outputs": []
    },
    {
      "cell_type": "code",
      "metadata": {
        "id": "zBo0so3ykSiI",
        "colab_type": "code",
        "colab": {
          "base_uri": "https://localhost:8080/",
          "height": 34
        },
        "outputId": "ab761bbb-a821-42c7-a2ad-732c0efdd81d"
      },
      "source": [
        "# to inspect a value, just call it\n",
        "x"
      ],
      "execution_count": 9,
      "outputs": [
        {
          "output_type": "execute_result",
          "data": {
            "text/plain": [
              "5"
            ]
          },
          "metadata": {
            "tags": []
          },
          "execution_count": 9
        }
      ]
    },
    {
      "cell_type": "code",
      "metadata": {
        "id": "bd8PTV0mkt6a",
        "colab_type": "code",
        "colab": {}
      },
      "source": [
        ""
      ],
      "execution_count": 0,
      "outputs": []
    }
  ]
}